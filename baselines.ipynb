{
 "cells": [
  {
   "cell_type": "markdown",
   "source": [
    "# Table of content\r\n",
    "\r\n",
    "- [Titanic](#Titanic)\r\n",
    "  - [Setup](#Setup)\r\n",
    "  - [Data](#Data)\r\n",
    "    - [Download](#Download)\r\n",
    "    - [Explore with QuickDA](#Explore-with-QuickDA)\r\n",
    "    - [Split Data](#Split-Data)\r\n",
    "  - [Model's Common Functions](#Model's-Common-Functions)\r\n",
    "  - [Baseline Only Females Survived : 0.76315](#Baseline-Only-Females-Survived-:-0.76315)\r\n",
    "  - [Log Sex Pclass : 0.76555](#Log-Sex-Pclass-:-0.76555)\r\n",
    "    - [Transformations](#Transformations)\r\n",
    "    - [Model](#Model)\r\n",
    "    - [Submission](#Submission)"
   ],
   "metadata": {}
  },
  {
   "cell_type": "markdown",
   "source": [
    "# Titanic"
   ],
   "metadata": {}
  },
  {
   "cell_type": "markdown",
   "source": [
    "This notebook has been inspired from the book [*Handson-Machine Learning with Scikit-learn, Tensorflow and Keras*](https://www.oreilly.com/library/view/hands-on-machine-learning/9781492032632/). \r\n",
    "\r\n",
    "Thanks to the author, [Aurélien Géron](https://github.com/ageron)."
   ],
   "metadata": {}
  },
  {
   "cell_type": "markdown",
   "source": [
    "## Setup"
   ],
   "metadata": {}
  },
  {
   "cell_type": "markdown",
   "source": [
    "What does the environment require?"
   ],
   "metadata": {}
  },
  {
   "cell_type": "code",
   "execution_count": 1,
   "source": [
    "# Python ≥3.5 is required\r\n",
    "from pathlib import Path\r\n",
    "import sys\r\n",
    "\r\n",
    "import numpy as np\r\n",
    "import pandas as pd\r\n",
    "import sklearn\r\n",
    "\r\n",
    "assert sklearn.__version__ >= '0.20'\r\n",
    "assert sys.version_info >= (3, 5)\r\n",
    "\r\n",
    "np.random.seed(42)"
   ],
   "outputs": [],
   "metadata": {}
  },
  {
   "cell_type": "markdown",
   "source": [
    "## Data"
   ],
   "metadata": {}
  },
  {
   "cell_type": "markdown",
   "source": [
    "### Download"
   ],
   "metadata": {}
  },
  {
   "cell_type": "code",
   "execution_count": 2,
   "source": [
    "def load_titanic_dataset(filename, path='titanic_dataset'):\r\n",
    "    csv_path = Path.joinpath(Path(path), filename)\r\n",
    "    return pd.read_csv(csv_path)\r\n",
    "\r\n",
    "\r\n",
    "data = load_titanic_dataset('train.csv')\r\n",
    "submit = load_titanic_dataset('test.csv')\r\n",
    "gender_submission = load_titanic_dataset('gender_submission.csv')"
   ],
   "outputs": [],
   "metadata": {}
  },
  {
   "cell_type": "markdown",
   "source": [
    "### Split Data"
   ],
   "metadata": {}
  },
  {
   "cell_type": "markdown",
   "source": [
    "Before you modify your data, you need to create a test set!\r\n",
    "\r\n",
    "The sex is an important feature. Therefore, we need to keep the same proportions of males and females in both sets with `stratify=data['Sex']`."
   ],
   "metadata": {}
  },
  {
   "cell_type": "code",
   "execution_count": 3,
   "source": [
    "from sklearn.model_selection import train_test_split\r\n",
    "\r\n",
    "train, test = train_test_split(data,\r\n",
    "                               test_size=0.2,\r\n",
    "                               random_state=42,\r\n",
    "                               stratify=data['Sex'])"
   ],
   "outputs": [],
   "metadata": {}
  },
  {
   "cell_type": "markdown",
   "source": [
    "## Model's Common Functions"
   ],
   "metadata": {}
  },
  {
   "cell_type": "markdown",
   "source": [
    "For [DRY](https://en.wikipedia.org/wiki/Don%27t_repeat_yourself) codes' purposes. Don't mind them, come back if you need to."
   ],
   "metadata": {}
  },
  {
   "cell_type": "code",
   "execution_count": 4,
   "source": [
    "from sklearn.metrics import accuracy_score\r\n",
    "\r\n",
    "\r\n",
    "def show_accuracy(predictions, ground_truth):\r\n",
    "    accuracy = accuracy_score(predictions, ground_truth)\r\n",
    "    print(f'Test set\\'s accuracy : {accuracy:.5f}.')\r\n",
    "\r\n",
    "\r\n",
    "def save_submission(passenger_id, pred, FILE_NAME='submission_000'):\r\n",
    "    FILE_NAME += '.csv'\r\n",
    "    submission = pd.DataFrame({\r\n",
    "        'PassengerId': passenger_id,\r\n",
    "        'Survived': pred\r\n",
    "    })\r\n",
    "    output_dir = Path('submissions')\r\n",
    "    output_dir.mkdir(parents=True, exist_ok=True)\r\n",
    "\r\n",
    "    submission.to_csv(output_dir.joinpath(FILE_NAME), index=False)"
   ],
   "outputs": [],
   "metadata": {}
  },
  {
   "cell_type": "markdown",
   "source": [
    "## Baseline Only Females Survived : 0.76315"
   ],
   "metadata": {}
  },
  {
   "cell_type": "markdown",
   "source": [
    "Since the females' survival rate is 74.2% and the males, 18.9%,\r\n",
    "we can do a quick & easy model in which every female survived and every male died."
   ],
   "metadata": {}
  },
  {
   "cell_type": "code",
   "execution_count": 5,
   "source": [
    "def baseline_female(data):\r\n",
    "    predictions = np.zeros(data.shape[0])\r\n",
    "    predictions[data['Sex'] == 'male'] = 0\r\n",
    "    predictions[data['Sex'] == 'female'] = 1\r\n",
    "    return predictions"
   ],
   "outputs": [],
   "metadata": {}
  },
  {
   "cell_type": "code",
   "execution_count": 6,
   "source": [
    "predictions = baseline_female(test)\r\n",
    "show_accuracy(predictions, test['Survived'])"
   ],
   "outputs": [
    {
     "output_type": "stream",
     "name": "stdout",
     "text": [
      "Test set's accuracy : 0.77654.\n"
     ]
    }
   ],
   "metadata": {}
  },
  {
   "cell_type": "markdown",
   "source": [
    "Not bad, let's do a submission :"
   ],
   "metadata": {}
  },
  {
   "cell_type": "code",
   "execution_count": 15,
   "source": [
    "predictions = baseline_female(submit)\r\n",
    "predictions[1] = 0  # Otherwise, Kaggle won't compute your score...\r\n",
    "\r\n",
    "passenger_id = submit['PassengerId']\r\n",
    "FILE_NAME = 'baseline_female_00'\r\n",
    "\r\n",
    "save_submission(passenger_id, predictions, FILE_NAME)"
   ],
   "outputs": [],
   "metadata": {
    "code_folding": [],
    "scrolled": true
   }
  },
  {
   "cell_type": "markdown",
   "source": [
    "## Log Sex : 0.76555"
   ],
   "metadata": {}
  },
  {
   "cell_type": "markdown",
   "source": [
    "Now, let's do a *machine learning* model."
   ],
   "metadata": {}
  },
  {
   "cell_type": "code",
   "execution_count": 8,
   "source": [
    "train_copy = train.copy()\r\n",
    "test_copy = test.copy()\r\n",
    "submit_copy = submit.copy()"
   ],
   "outputs": [],
   "metadata": {}
  },
  {
   "cell_type": "markdown",
   "source": [
    "### Transformations"
   ],
   "metadata": {}
  },
  {
   "cell_type": "markdown",
   "source": [
    "Here, you can add some attributes to `x_att`."
   ],
   "metadata": {}
  },
  {
   "cell_type": "code",
   "execution_count": 9,
   "source": [
    "x_attributes = ['Sex', 'Pclass']\r\n",
    "y_attribute = ['Survived']\r\n",
    "\r\n",
    "\r\n",
    "x_train = train_copy[x_attributes]\r\n",
    "y_train = train_copy[y_attribute]\r\n",
    "\r\n",
    "x_test = test_copy[x_attributes]\r\n",
    "y_test = test_copy[y_attribute]\r\n",
    "\r\n",
    "x_submit = submit_copy[x_attributes]"
   ],
   "outputs": [],
   "metadata": {}
  },
  {
   "cell_type": "markdown",
   "source": [
    "**You can do here some data preprocessing.**"
   ],
   "metadata": {}
  },
  {
   "cell_type": "markdown",
   "source": [
    "Machine learning algorithms don't understand strings, but do understand vectors.\r\n",
    "\r\n",
    "Therefore you should use `OneHotEncoder()` to transform your feature this way (if `sparse=False`):\r\n",
    "* `'male' -> [1, 0]`\r\n",
    "* `'female' -> [0, 1]`\r\n",
    "\r\n",
    "If we use two features, the two will be merged into one vector :\r\n",
    "* `'male from first class' -> [1, 0, 1, 0, 0]`\r\n",
    "* `'female from first class' -> [0, 1, 1, 0, 0]`\r\n",
    "* `'female from second class' -> [0, 1, 0, 1, 0]`\r\n",
    "\r\n",
    "As you can see, the first two values of the vector determine if the instance is a male or a female and the last 3 values, the passenger's class.\r\n",
    "\r\n",
    "_Can you tell why we use `OneHotEncoder` on `Pclass`?_"
   ],
   "metadata": {}
  },
  {
   "cell_type": "code",
   "execution_count": 10,
   "source": [
    "from sklearn.preprocessing import OneHotEncoder\r\n",
    "\r\n",
    "one_hot = OneHotEncoder() \r\n",
    "\r\n",
    "x_train_tfm = one_hot.fit_transform(x_train)\r\n",
    "x_test_tfm = one_hot.fit_transform(x_test)\r\n",
    "x_submit_tfm = one_hot.fit_transform(x_submit)"
   ],
   "outputs": [],
   "metadata": {}
  },
  {
   "cell_type": "markdown",
   "source": [
    "### Model"
   ],
   "metadata": {}
  },
  {
   "cell_type": "markdown",
   "source": [
    "Once you transformed the data into something *edible* for your algorithm, you can train it."
   ],
   "metadata": {}
  },
  {
   "cell_type": "code",
   "execution_count": 11,
   "source": [
    "from sklearn.linear_model import LogisticRegression\r\n",
    "\r\n",
    "log_reg = LogisticRegression(random_state=42)\r\n",
    "log_reg.fit(x_train_tfm, np.array(y_train).ravel())\r\n",
    "\r\n",
    "test_pred = log_reg.predict(x_test_tfm)\r\n",
    "\r\n",
    "show_accuracy(test_pred, y_test['Survived'])"
   ],
   "outputs": [
    {
     "output_type": "stream",
     "name": "stdout",
     "text": [
      "Test set's accuracy : 0.77654.\n"
     ]
    }
   ],
   "metadata": {}
  },
  {
   "cell_type": "markdown",
   "source": [
    "This is same result that we got with the baseline. How should you interpret this accuracy?"
   ],
   "metadata": {}
  },
  {
   "cell_type": "markdown",
   "source": [
    "### Submission"
   ],
   "metadata": {}
  },
  {
   "cell_type": "code",
   "execution_count": 12,
   "source": [
    "passenger_id = submit['PassengerId']\n",
    "pred = log_reg.predict(x_submit_tfm)\n",
    "FILE_NAME = 'log_sex_pclass'\n",
    "\n",
    "save_submission(passenger_id, pred, FILE_NAME)"
   ],
   "outputs": [],
   "metadata": {}
  },
  {
   "cell_type": "markdown",
   "source": [
    "# Congrats!\n",
    "**You're now done with the first part.**\n",
    "\n",
    "**Before going further, try to get a higher score by :**\n",
    "\n",
    "* Adding some features\n",
    "* Doing some data preprocessing\n",
    "* Tweaking the model's hyperparameters\n",
    "* Trying another [model](https://scikit-learn.org/stable/auto_examples/classification/plot_classifier_comparison.html)\n",
    "\n",
    "Also, don't forget to share your score with us!"
   ],
   "metadata": {}
  },
  {
   "cell_type": "code",
   "execution_count": null,
   "source": [],
   "outputs": [],
   "metadata": {}
  }
 ],
 "metadata": {
  "interpreter": {
   "hash": "ee1785080d0e521cf15740c31297152603f453adb214613781a22301c41a368d"
  },
  "kernelspec": {
   "display_name": "Python 3 (ipykernel)",
   "language": "python",
   "name": "python3"
  },
  "language_info": {
   "codemirror_mode": {
    "name": "ipython",
    "version": 3
   },
   "file_extension": ".py",
   "mimetype": "text/x-python",
   "name": "python",
   "nbconvert_exporter": "python",
   "pygments_lexer": "ipython3",
   "version": "3.8.5"
  },
  "latex_envs": {
   "LaTeX_envs_menu_present": true,
   "autoclose": false,
   "autocomplete": true,
   "bibliofile": "biblio.bib",
   "cite_by": "apalike",
   "current_citInitial": 1,
   "eqLabelWithNumbers": true,
   "eqNumInitial": 1,
   "hotkeys": {
    "equation": "Ctrl-E",
    "itemize": "Ctrl-I"
   },
   "labels_anchors": false,
   "latex_user_defs": false,
   "report_style_numbering": false,
   "user_envs_cfg": false
  },
  "toc": {
   "base_numbering": 1,
   "nav_menu": {},
   "number_sections": false,
   "sideBar": true,
   "skip_h1_title": false,
   "title_cell": "Table of Contents",
   "title_sidebar": "Contents",
   "toc_cell": true,
   "toc_position": {
    "height": "calc(100% - 180px)",
    "left": "10px",
    "top": "150px",
    "width": "253.933px"
   },
   "toc_section_display": true,
   "toc_window_display": false
  },
  "varInspector": {
   "cols": {
    "lenName": 16,
    "lenType": 16,
    "lenVar": 40
   },
   "kernels_config": {
    "python": {
     "delete_cmd_postfix": "",
     "delete_cmd_prefix": "del ",
     "library": "var_list.py",
     "varRefreshCmd": "print(var_dic_list())"
    },
    "r": {
     "delete_cmd_postfix": ") ",
     "delete_cmd_prefix": "rm(",
     "library": "var_list.r",
     "varRefreshCmd": "cat(var_dic_list()) "
    }
   },
   "types_to_exclude": [
    "module",
    "function",
    "builtin_function_or_method",
    "instance",
    "_Feature"
   ],
   "window_display": false
  }
 },
 "nbformat": 4,
 "nbformat_minor": 4
}